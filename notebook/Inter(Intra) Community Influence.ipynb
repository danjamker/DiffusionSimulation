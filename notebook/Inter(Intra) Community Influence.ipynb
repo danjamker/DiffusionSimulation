{
 "cells": [
  {
   "cell_type": "code",
   "execution_count": 1,
   "metadata": {
    "collapsed": true
   },
   "outputs": [],
   "source": [
    "%matplotlib inline\n",
    "import matplotlib.pylab as plt\n",
    "import numpy as np\n",
    "import networkx as nx\n",
    "import pandas as pd\n",
    "import seaborn as sns"
   ]
  },
  {
   "cell_type": "code",
   "execution_count": 2,
   "metadata": {
    "collapsed": false
   },
   "outputs": [],
   "source": [
    "ll = []"
   ]
  },
  {
   "cell_type": "code",
   "execution_count": 11,
   "metadata": {
    "collapsed": false
   },
   "outputs": [],
   "source": [
    "def net(p, n, o):\n",
    "    l = []\n",
    "    G1 = nx.read_gpickle(p)\n",
    "    ed1 = G1.edges(data=True)\n",
    "    \n",
    "    for k, r in pd.read_csv(o).iterrows():\n",
    "        try:\n",
    "            nx.set_edge_attributes(G1, 'v',{(r[\"source\"],r[\"target\"]): r[\"v\"]})\n",
    "        except:\n",
    "            pass\n",
    "        try:\n",
    "            nx.set_edge_attributes(G1, 'voru',{(r[\"source\"],r[\"target\"]): r[\"voru\"]})\n",
    "        except:\n",
    "            pass\n",
    "\n",
    "    for u,v,a in ed1:\n",
    "        try:\n",
    "            if G1.node[u][\"community\"] == G1.node[v][\"community\"]:\n",
    "                l.append([u,v,G1.node[u][\"community\"],G1.node[v][\"community\"], a[\"v\"],\"inter\", n])\n",
    "            else:\n",
    "                l.append([u,v,G1.node[u][\"community\"],G1.node[v][\"community\"], a[\"v\"],\"intra\", n])\n",
    "        except:\n",
    "            pass\n",
    "    return l\n",
    "\n",
    "ll = ll + net(\"../data/pickle/reddit_comment_network_pagerank.gpickle\", \n",
    "              \"Reddit Comment\",\"/Users/kershad1/PycharmProjects/Network-Simulations-Hadoop/reddit_comment.csv\")\n",
    "ll = ll + net(\"../data/pickle/reddit_traversal_network_pagerank.gpickle\", \n",
    "              \"Reddit Traversal\",\"/Users/kershad1/PycharmProjects/Network-Simulations-Hadoop/reddit_traversal.csv\")\n",
    "ll = ll + net(\"../data/pickle/twitter_mention_network_pagerank.gpickle\", \n",
    "              \"Twitter Mention\",\"/Users/kershad1/PycharmProjects/Network-Simulations-Hadoop/twitter_mention.csv\")\n",
    "ll = ll + net(\"../data/pickle/twitter_geo_network_pagerank.gpickle\", \n",
    "              \"Twitter Geo\", \"/Users/kershad1/PycharmProjects/Network-Simulations-Hadoop/twitter_geo.csv\")"
   ]
  },
  {
   "cell_type": "code",
   "execution_count": 12,
   "metadata": {
    "collapsed": false
   },
   "outputs": [],
   "source": [
    "df = pd.DataFrame(ll, columns=[\"source\",\"target\",\"source_community\",\"target_community\",\"weight\",\"class\", \"network\"])"
   ]
  },
  {
   "cell_type": "code",
   "execution_count": 13,
   "metadata": {
    "collapsed": false
   },
   "outputs": [
    {
     "data": {
      "text/html": [
       "<div>\n",
       "<table border=\"1\" class=\"dataframe\">\n",
       "  <thead>\n",
       "    <tr style=\"text-align: right;\">\n",
       "      <th></th>\n",
       "      <th>source</th>\n",
       "      <th>target</th>\n",
       "      <th>source_community</th>\n",
       "      <th>target_community</th>\n",
       "      <th>weight</th>\n",
       "      <th>class</th>\n",
       "      <th>network</th>\n",
       "    </tr>\n",
       "  </thead>\n",
       "  <tbody>\n",
       "    <tr>\n",
       "      <th>0</th>\n",
       "      <td>EH21</td>\n",
       "      <td>EH20</td>\n",
       "      <td>0</td>\n",
       "      <td>0</td>\n",
       "      <td>0.015152</td>\n",
       "      <td>inter</td>\n",
       "      <td>Twitter Geo</td>\n",
       "    </tr>\n",
       "    <tr>\n",
       "      <th>1</th>\n",
       "      <td>EH21</td>\n",
       "      <td>EH23</td>\n",
       "      <td>0</td>\n",
       "      <td>0</td>\n",
       "      <td>0.125000</td>\n",
       "      <td>inter</td>\n",
       "      <td>Twitter Geo</td>\n",
       "    </tr>\n",
       "    <tr>\n",
       "      <th>2</th>\n",
       "      <td>EH21</td>\n",
       "      <td>EH22</td>\n",
       "      <td>0</td>\n",
       "      <td>0</td>\n",
       "      <td>0.055556</td>\n",
       "      <td>inter</td>\n",
       "      <td>Twitter Geo</td>\n",
       "    </tr>\n",
       "    <tr>\n",
       "      <th>3</th>\n",
       "      <td>EH21</td>\n",
       "      <td>G20</td>\n",
       "      <td>0</td>\n",
       "      <td>0</td>\n",
       "      <td>0.045455</td>\n",
       "      <td>inter</td>\n",
       "      <td>Twitter Geo</td>\n",
       "    </tr>\n",
       "    <tr>\n",
       "      <th>4</th>\n",
       "      <td>EH21</td>\n",
       "      <td>EH26</td>\n",
       "      <td>0</td>\n",
       "      <td>0</td>\n",
       "      <td>0.034483</td>\n",
       "      <td>inter</td>\n",
       "      <td>Twitter Geo</td>\n",
       "    </tr>\n",
       "  </tbody>\n",
       "</table>\n",
       "</div>"
      ],
      "text/plain": [
       "  source target  source_community  target_community    weight  class  \\\n",
       "0   EH21   EH20                 0                 0  0.015152  inter   \n",
       "1   EH21   EH23                 0                 0  0.125000  inter   \n",
       "2   EH21   EH22                 0                 0  0.055556  inter   \n",
       "3   EH21    G20                 0                 0  0.045455  inter   \n",
       "4   EH21   EH26                 0                 0  0.034483  inter   \n",
       "\n",
       "       network  \n",
       "0  Twitter Geo  \n",
       "1  Twitter Geo  \n",
       "2  Twitter Geo  \n",
       "3  Twitter Geo  \n",
       "4  Twitter Geo  "
      ]
     },
     "execution_count": 13,
     "metadata": {},
     "output_type": "execute_result"
    }
   ],
   "source": [
    "df.head()"
   ]
  },
  {
   "cell_type": "code",
   "execution_count": 14,
   "metadata": {
    "collapsed": false
   },
   "outputs": [],
   "source": [
    "dft = df.set_index([\"source\",\"target\",\"network\"], drop=False)"
   ]
  },
  {
   "cell_type": "code",
   "execution_count": 15,
   "metadata": {
    "collapsed": false
   },
   "outputs": [],
   "source": [
    "dft[\"norm_weight\"] = dft[\"weight\"].div(dft.groupby(level=[0]).sum()[\"weight\"],level=0)"
   ]
  },
  {
   "cell_type": "code",
   "execution_count": 16,
   "metadata": {
    "collapsed": false
   },
   "outputs": [
    {
     "data": {
      "image/png": "[encoded data removed]",
      "text/plain": [
       "<matplotlib.figure.Figure at 0x13b546610>"
      ]
     },
     "metadata": {},
     "output_type": "display_data"
    }
   ],
   "source": [
    "sns.boxplot(x=\"weight\", y=\"network\", data=dft, orient=\"h\", palette=\"Set1\", hue=\"class\", showfliers=False)\n",
    "sns.axlabel(\"Influence\",\"\")"
   ]
  },
  {
   "cell_type": "code",
   "execution_count": null,
   "metadata": {
    "collapsed": true
   },
   "outputs": [],
   "source": []
  }
 ],
 "metadata": {
  "kernelspec": {
   "display_name": "Python 2",
   "language": "python",
   "name": "python2"
  },
  "language_info": {
   "codemirror_mode": {
    "name": "ipython",
    "version": 2
   },
   "file_extension": ".py",
   "mimetype": "text/x-python",
   "name": "python",
   "nbconvert_exporter": "python",
   "pygments_lexer": "ipython2",
   "version": "2.7.10"
  }
 },
 "nbformat": 4,
 "nbformat_minor": 0
}
