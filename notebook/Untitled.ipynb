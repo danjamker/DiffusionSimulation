{
 "cells": [
  {
   "cell_type": "code",
   "execution_count": 3,
   "metadata": {
    "collapsed": true
   },
   "outputs": [],
   "source": [
    "%matplotlib inline\n",
    "\n",
    "from sklearn.datasets import load_iris\n",
    "from sklearn.ensemble import RandomForestClassifier\n",
    "from sklearn.metrics import precision_recall_fscore_support\n",
    "from sklearn.linear_model import LinearRegression\n",
    "import matplotlib.pylab as plt\n",
    "import pandas as pd\n",
    "import numpy as np\n",
    "from pandas.tools.plotting import scatter_matrix"
   ]
  },
  {
   "cell_type": "code",
   "execution_count": 4,
   "metadata": {
    "collapsed": false
   },
   "outputs": [
    {
     "ename": "IOError",
     "evalue": "[Errno 2] No such file or directory: '/Users/danielkershaw/Downloads/test-data'",
     "output_type": "error",
     "traceback": [
      "\u001b[0;31m\u001b[0m",
      "\u001b[0;31mIOError\u001b[0mTraceback (most recent call last)",
      "\u001b[0;32m<ipython-input-4-e44003425732>\u001b[0m in \u001b[0;36m<module>\u001b[0;34m()\u001b[0m\n\u001b[1;32m      2\u001b[0m \u001b[0;32mfrom\u001b[0m \u001b[0mpprint\u001b[0m \u001b[0;32mimport\u001b[0m \u001b[0mpprint\u001b[0m\u001b[0;34m\u001b[0m\u001b[0m\n\u001b[1;32m      3\u001b[0m \u001b[0;34m\u001b[0m\u001b[0m\n\u001b[0;32m----> 4\u001b[0;31m \u001b[0;32mwith\u001b[0m \u001b[0mopen\u001b[0m\u001b[0;34m(\u001b[0m\u001b[0;34m'/Users/danielkershaw/Downloads/test-data'\u001b[0m\u001b[0;34m)\u001b[0m \u001b[0;32mas\u001b[0m \u001b[0mdata_file\u001b[0m\u001b[0;34m:\u001b[0m\u001b[0;34m\u001b[0m\u001b[0m\n\u001b[0m\u001b[1;32m      5\u001b[0m     \u001b[0mdata\u001b[0m \u001b[0;34m=\u001b[0m \u001b[0mjson\u001b[0m\u001b[0;34m.\u001b[0m\u001b[0mload\u001b[0m\u001b[0;34m(\u001b[0m\u001b[0mdata_file\u001b[0m\u001b[0;34m)\u001b[0m\u001b[0;34m\u001b[0m\u001b[0m\n\u001b[1;32m      6\u001b[0m \u001b[0;34m\u001b[0m\u001b[0m\n",
      "\u001b[0;31mIOError\u001b[0m: [Errno 2] No such file or directory: '/Users/danielkershaw/Downloads/test-data'"
     ]
    }
   ],
   "source": [
    "import json\n",
    "from pprint import pprint\n",
    "\n",
    "with open('/Users/danielkershaw/Downloads/test-data') as data_file:\n",
    "    data = json.load(data_file)\n",
    "    \n",
    "df = pd.read_json(data[\"raw\"]).sort_index()\n",
    "# df['time'] = df['time']"
   ]
  },
  {
   "cell_type": "code",
   "execution_count": 180,
   "metadata": {
    "collapsed": false
   },
   "outputs": [],
   "source": [
    "import datetime\n",
    "def dt(X):\n",
    "    return datetime.datetime.fromtimestamp(float(X/1000))\n",
    "df['time'] = df['time'].apply(dt)"
   ]
  },
  {
   "cell_type": "code",
   "execution_count": 181,
   "metadata": {
    "collapsed": false
   },
   "outputs": [
    {
     "data": {
      "text/html": [
       "<div>\n",
       "<table border=\"1\" class=\"dataframe\">\n",
       "  <thead>\n",
       "    <tr style=\"text-align: right;\">\n",
       "      <th></th>\n",
       "      <th>ActivateionExposure</th>\n",
       "      <th>UserExposure</th>\n",
       "      <th>community</th>\n",
       "      <th>degree</th>\n",
       "      <th>early_spread_time</th>\n",
       "      <th>index</th>\n",
       "      <th>inffectedCommunities</th>\n",
       "      <th>inffectedCommunitiesnor</th>\n",
       "      <th>node</th>\n",
       "      <th>numberActivatedUsers</th>\n",
       "      <th>numberActivatedUsersnorm</th>\n",
       "      <th>numberOfActivations</th>\n",
       "      <th>pagerank</th>\n",
       "      <th>surface</th>\n",
       "      <th>time</th>\n",
       "      <th>usageEntorpy</th>\n",
       "      <th>usagedominance</th>\n",
       "      <th>userUsageEntorpy</th>\n",
       "      <th>userusagedominance</th>\n",
       "    </tr>\n",
       "  </thead>\n",
       "  <tbody>\n",
       "    <tr>\n",
       "      <th>0</th>\n",
       "      <td>0</td>\n",
       "      <td>0</td>\n",
       "      <td>7</td>\n",
       "      <td>422</td>\n",
       "      <td>0</td>\n",
       "      <td>2</td>\n",
       "      <td>1</td>\n",
       "      <td>0.071429</td>\n",
       "      <td>RH16</td>\n",
       "      <td>1</td>\n",
       "      <td>0.000344</td>\n",
       "      <td>1</td>\n",
       "      <td>0.000284</td>\n",
       "      <td>422</td>\n",
       "      <td>2014-10-29 17:40:19</td>\n",
       "      <td>0.000000</td>\n",
       "      <td>1.000000</td>\n",
       "      <td>0.000000</td>\n",
       "      <td>1.000000</td>\n",
       "    </tr>\n",
       "    <tr>\n",
       "      <th>1</th>\n",
       "      <td>1</td>\n",
       "      <td>1</td>\n",
       "      <td>8</td>\n",
       "      <td>1599</td>\n",
       "      <td>2317350000</td>\n",
       "      <td>3</td>\n",
       "      <td>2</td>\n",
       "      <td>0.142857</td>\n",
       "      <td>CB8</td>\n",
       "      <td>2</td>\n",
       "      <td>0.000687</td>\n",
       "      <td>2</td>\n",
       "      <td>0.003956</td>\n",
       "      <td>1666</td>\n",
       "      <td>2014-11-25 13:22:49</td>\n",
       "      <td>0.693147</td>\n",
       "      <td>0.500000</td>\n",
       "      <td>0.693147</td>\n",
       "      <td>0.500000</td>\n",
       "    </tr>\n",
       "    <tr>\n",
       "      <th>2</th>\n",
       "      <td>2</td>\n",
       "      <td>2</td>\n",
       "      <td>9</td>\n",
       "      <td>734</td>\n",
       "      <td>2319847000</td>\n",
       "      <td>4</td>\n",
       "      <td>3</td>\n",
       "      <td>0.214286</td>\n",
       "      <td>BT92</td>\n",
       "      <td>3</td>\n",
       "      <td>0.001031</td>\n",
       "      <td>3</td>\n",
       "      <td>0.002070</td>\n",
       "      <td>1844</td>\n",
       "      <td>2014-11-25 14:04:26</td>\n",
       "      <td>1.098612</td>\n",
       "      <td>0.333333</td>\n",
       "      <td>1.098612</td>\n",
       "      <td>0.333333</td>\n",
       "    </tr>\n",
       "    <tr>\n",
       "      <th>3</th>\n",
       "      <td>1</td>\n",
       "      <td>1</td>\n",
       "      <td>8</td>\n",
       "      <td>276</td>\n",
       "      <td>2743060000</td>\n",
       "      <td>5</td>\n",
       "      <td>3</td>\n",
       "      <td>0.214286</td>\n",
       "      <td>CB9</td>\n",
       "      <td>4</td>\n",
       "      <td>0.001375</td>\n",
       "      <td>4</td>\n",
       "      <td>0.000189</td>\n",
       "      <td>1864</td>\n",
       "      <td>2014-11-30 11:37:59</td>\n",
       "      <td>1.039721</td>\n",
       "      <td>0.500000</td>\n",
       "      <td>1.039721</td>\n",
       "      <td>0.500000</td>\n",
       "    </tr>\n",
       "    <tr>\n",
       "      <th>4</th>\n",
       "      <td>1</td>\n",
       "      <td>1</td>\n",
       "      <td>12</td>\n",
       "      <td>325</td>\n",
       "      <td>4058551000</td>\n",
       "      <td>6</td>\n",
       "      <td>4</td>\n",
       "      <td>0.285714</td>\n",
       "      <td>DH99</td>\n",
       "      <td>5</td>\n",
       "      <td>0.001718</td>\n",
       "      <td>5</td>\n",
       "      <td>0.000400</td>\n",
       "      <td>1930</td>\n",
       "      <td>2014-12-15 17:02:50</td>\n",
       "      <td>1.332179</td>\n",
       "      <td>0.400000</td>\n",
       "      <td>1.332179</td>\n",
       "      <td>0.400000</td>\n",
       "    </tr>\n",
       "  </tbody>\n",
       "</table>\n",
       "</div>"
      ],
      "text/plain": [
       "   ActivateionExposure  UserExposure  community  degree  early_spread_time  \\\n",
       "0                    0             0          7     422                  0   \n",
       "1                    1             1          8    1599         2317350000   \n",
       "2                    2             2          9     734         2319847000   \n",
       "3                    1             1          8     276         2743060000   \n",
       "4                    1             1         12     325         4058551000   \n",
       "\n",
       "   index  inffectedCommunities  inffectedCommunitiesnor  node  \\\n",
       "0      2                     1                 0.071429  RH16   \n",
       "1      3                     2                 0.142857   CB8   \n",
       "2      4                     3                 0.214286  BT92   \n",
       "3      5                     3                 0.214286   CB9   \n",
       "4      6                     4                 0.285714  DH99   \n",
       "\n",
       "   numberActivatedUsers  numberActivatedUsersnorm  numberOfActivations  \\\n",
       "0                     1                  0.000344                    1   \n",
       "1                     2                  0.000687                    2   \n",
       "2                     3                  0.001031                    3   \n",
       "3                     4                  0.001375                    4   \n",
       "4                     5                  0.001718                    5   \n",
       "\n",
       "   pagerank  surface                time  usageEntorpy  usagedominance  \\\n",
       "0  0.000284      422 2014-10-29 17:40:19      0.000000        1.000000   \n",
       "1  0.003956     1666 2014-11-25 13:22:49      0.693147        0.500000   \n",
       "2  0.002070     1844 2014-11-25 14:04:26      1.098612        0.333333   \n",
       "3  0.000189     1864 2014-11-30 11:37:59      1.039721        0.500000   \n",
       "4  0.000400     1930 2014-12-15 17:02:50      1.332179        0.400000   \n",
       "\n",
       "   userUsageEntorpy  userusagedominance  \n",
       "0          0.000000            1.000000  \n",
       "1          0.693147            0.500000  \n",
       "2          1.098612            0.333333  \n",
       "3          1.039721            0.500000  \n",
       "4          1.332179            0.400000  "
      ]
     },
     "execution_count": 181,
     "metadata": {},
     "output_type": "execute_result"
    }
   ],
   "source": [
    "df.head()"
   ]
  },
  {
   "cell_type": "code",
   "execution_count": 198,
   "metadata": {
    "collapsed": false
   },
   "outputs": [
    {
     "name": "stderr",
     "output_type": "stream",
     "text": [
      "/Users/danielkershaw/Virtualenvs/DiffusionSimulation/lib/python2.7/site-packages/ipykernel/__main__.py:11: FutureWarning: how in .resample() is deprecated\n",
      "the new syntax is .resample(...).sum()\n"
     ]
    }
   ],
   "source": [
    "def to_date(X):\n",
    "    return X.day()\n",
    "\n",
    "\n",
    "dft = df.set_index(pd.DatetimeIndex(df['time']))\n",
    "start = dft.index.searchsorted(dft.index[0])\n",
    "end = dft.index.searchsorted(dft.index[0] + datetime.timedelta(days=30))\n",
    "dft = dft.ix[start:end]\n",
    "dftt = pd.DataFrame(index = dft.index)\n",
    "dftt[\"activations\"] = 1\n",
    "# idx = pd.date_range(dft.index[0].date(), dft.index[0].date() + datetime.timedelta(days=30), freq='1D')\n",
    "# dft.reindex(idx, fill_value=0)\n",
    "dftt = dftt.resample('d',how='sum').fillna(0)\n",
    "dftt[\"activations\"] = (dftt[\"activations\"].cumsum()/dftt[\"activations\"].sum())"
   ]
  },
  {
   "cell_type": "code",
   "execution_count": 199,
   "metadata": {
    "collapsed": false
   },
   "outputs": [
    {
     "data": {
      "text/html": [
       "<div>\n",
       "<table border=\"1\" class=\"dataframe\">\n",
       "  <thead>\n",
       "    <tr style=\"text-align: right;\">\n",
       "      <th></th>\n",
       "      <th>index</th>\n",
       "      <th>activations</th>\n",
       "    </tr>\n",
       "  </thead>\n",
       "  <tbody>\n",
       "    <tr>\n",
       "      <th>0</th>\n",
       "      <td>2014-10-29</td>\n",
       "      <td>0.333333</td>\n",
       "    </tr>\n",
       "    <tr>\n",
       "      <th>1</th>\n",
       "      <td>2014-10-30</td>\n",
       "      <td>0.333333</td>\n",
       "    </tr>\n",
       "    <tr>\n",
       "      <th>2</th>\n",
       "      <td>2014-10-31</td>\n",
       "      <td>0.333333</td>\n",
       "    </tr>\n",
       "    <tr>\n",
       "      <th>3</th>\n",
       "      <td>2014-11-01</td>\n",
       "      <td>0.333333</td>\n",
       "    </tr>\n",
       "    <tr>\n",
       "      <th>4</th>\n",
       "      <td>2014-11-02</td>\n",
       "      <td>0.333333</td>\n",
       "    </tr>\n",
       "    <tr>\n",
       "      <th>5</th>\n",
       "      <td>2014-11-03</td>\n",
       "      <td>0.333333</td>\n",
       "    </tr>\n",
       "    <tr>\n",
       "      <th>6</th>\n",
       "      <td>2014-11-04</td>\n",
       "      <td>0.333333</td>\n",
       "    </tr>\n",
       "    <tr>\n",
       "      <th>7</th>\n",
       "      <td>2014-11-05</td>\n",
       "      <td>0.333333</td>\n",
       "    </tr>\n",
       "    <tr>\n",
       "      <th>8</th>\n",
       "      <td>2014-11-06</td>\n",
       "      <td>0.333333</td>\n",
       "    </tr>\n",
       "    <tr>\n",
       "      <th>9</th>\n",
       "      <td>2014-11-07</td>\n",
       "      <td>0.333333</td>\n",
       "    </tr>\n",
       "    <tr>\n",
       "      <th>10</th>\n",
       "      <td>2014-11-08</td>\n",
       "      <td>0.333333</td>\n",
       "    </tr>\n",
       "    <tr>\n",
       "      <th>11</th>\n",
       "      <td>2014-11-09</td>\n",
       "      <td>0.333333</td>\n",
       "    </tr>\n",
       "    <tr>\n",
       "      <th>12</th>\n",
       "      <td>2014-11-10</td>\n",
       "      <td>0.333333</td>\n",
       "    </tr>\n",
       "    <tr>\n",
       "      <th>13</th>\n",
       "      <td>2014-11-11</td>\n",
       "      <td>0.333333</td>\n",
       "    </tr>\n",
       "    <tr>\n",
       "      <th>14</th>\n",
       "      <td>2014-11-12</td>\n",
       "      <td>0.333333</td>\n",
       "    </tr>\n",
       "    <tr>\n",
       "      <th>15</th>\n",
       "      <td>2014-11-13</td>\n",
       "      <td>0.333333</td>\n",
       "    </tr>\n",
       "    <tr>\n",
       "      <th>16</th>\n",
       "      <td>2014-11-14</td>\n",
       "      <td>0.333333</td>\n",
       "    </tr>\n",
       "    <tr>\n",
       "      <th>17</th>\n",
       "      <td>2014-11-15</td>\n",
       "      <td>0.333333</td>\n",
       "    </tr>\n",
       "    <tr>\n",
       "      <th>18</th>\n",
       "      <td>2014-11-16</td>\n",
       "      <td>0.333333</td>\n",
       "    </tr>\n",
       "    <tr>\n",
       "      <th>19</th>\n",
       "      <td>2014-11-17</td>\n",
       "      <td>0.333333</td>\n",
       "    </tr>\n",
       "    <tr>\n",
       "      <th>20</th>\n",
       "      <td>2014-11-18</td>\n",
       "      <td>0.333333</td>\n",
       "    </tr>\n",
       "    <tr>\n",
       "      <th>21</th>\n",
       "      <td>2014-11-19</td>\n",
       "      <td>0.333333</td>\n",
       "    </tr>\n",
       "    <tr>\n",
       "      <th>22</th>\n",
       "      <td>2014-11-20</td>\n",
       "      <td>0.333333</td>\n",
       "    </tr>\n",
       "    <tr>\n",
       "      <th>23</th>\n",
       "      <td>2014-11-21</td>\n",
       "      <td>0.333333</td>\n",
       "    </tr>\n",
       "    <tr>\n",
       "      <th>24</th>\n",
       "      <td>2014-11-22</td>\n",
       "      <td>0.333333</td>\n",
       "    </tr>\n",
       "    <tr>\n",
       "      <th>25</th>\n",
       "      <td>2014-11-23</td>\n",
       "      <td>0.333333</td>\n",
       "    </tr>\n",
       "    <tr>\n",
       "      <th>26</th>\n",
       "      <td>2014-11-24</td>\n",
       "      <td>0.333333</td>\n",
       "    </tr>\n",
       "    <tr>\n",
       "      <th>27</th>\n",
       "      <td>2014-11-25</td>\n",
       "      <td>1.000000</td>\n",
       "    </tr>\n",
       "  </tbody>\n",
       "</table>\n",
       "</div>"
      ],
      "text/plain": [
       "        index  activations\n",
       "0  2014-10-29     0.333333\n",
       "1  2014-10-30     0.333333\n",
       "2  2014-10-31     0.333333\n",
       "3  2014-11-01     0.333333\n",
       "4  2014-11-02     0.333333\n",
       "5  2014-11-03     0.333333\n",
       "6  2014-11-04     0.333333\n",
       "7  2014-11-05     0.333333\n",
       "8  2014-11-06     0.333333\n",
       "9  2014-11-07     0.333333\n",
       "10 2014-11-08     0.333333\n",
       "11 2014-11-09     0.333333\n",
       "12 2014-11-10     0.333333\n",
       "13 2014-11-11     0.333333\n",
       "14 2014-11-12     0.333333\n",
       "15 2014-11-13     0.333333\n",
       "16 2014-11-14     0.333333\n",
       "17 2014-11-15     0.333333\n",
       "18 2014-11-16     0.333333\n",
       "19 2014-11-17     0.333333\n",
       "20 2014-11-18     0.333333\n",
       "21 2014-11-19     0.333333\n",
       "22 2014-11-20     0.333333\n",
       "23 2014-11-21     0.333333\n",
       "24 2014-11-22     0.333333\n",
       "25 2014-11-23     0.333333\n",
       "26 2014-11-24     0.333333\n",
       "27 2014-11-25     1.000000"
      ]
     },
     "execution_count": 199,
     "metadata": {},
     "output_type": "execute_result"
    }
   ],
   "source": [
    "dftt.reset_index()"
   ]
  },
  {
   "cell_type": "code",
   "execution_count": 187,
   "metadata": {
    "collapsed": false
   },
   "outputs": [],
   "source": [
    "y = dftt[\"activations\"]\n",
    "x = np.arange(0, len(dftt[\"activations\"]))"
   ]
  },
  {
   "cell_type": "code",
   "execution_count": 188,
   "metadata": {
    "collapsed": false
   },
   "outputs": [
    {
     "data": {
      "text/plain": [
       "0.35714285714285721"
      ]
     },
     "execution_count": 188,
     "metadata": {},
     "output_type": "execute_result"
    }
   ],
   "source": [
    "dftt[\"activations\"].mean()"
   ]
  },
  {
   "cell_type": "code",
   "execution_count": 189,
   "metadata": {
    "collapsed": false
   },
   "outputs": [
    {
     "data": {
      "text/plain": [
       "(0, 30, 0, 1)"
      ]
     },
     "execution_count": 189,
     "metadata": {},
     "output_type": "execute_result"
    },
    {
     "data": {
      "image/png": "[encoded data removed]",
      "text/plain": [
       "<matplotlib.figure.Figure at 0x11534a8d0>"
      ]
     },
     "metadata": {},
     "output_type": "display_data"
    }
   ],
   "source": [
    "axes = plt.plot(x, y, 'o');\n",
    "plt.axis((0,30,0,1))"
   ]
  },
  {
   "cell_type": "code",
   "execution_count": null,
   "metadata": {
    "collapsed": true
   },
   "outputs": [],
   "source": []
  }
 ],
 "metadata": {
  "kernelspec": {
   "display_name": "Python 2",
   "language": "python",
   "name": "python2"
  },
  "language_info": {
   "codemirror_mode": {
    "name": "ipython",
    "version": 2
   },
   "file_extension": ".py",
   "mimetype": "text/x-python",
   "name": "python",
   "nbconvert_exporter": "python",
   "pygments_lexer": "ipython2",
   "version": "2.7.10"
  }
 },
 "nbformat": 4,
 "nbformat_minor": 0
}
