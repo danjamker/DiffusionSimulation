{
 "cells": [
  {
   "cell_type": "code",
   "execution_count": 1,
   "metadata": {
    "collapsed": false
   },
   "outputs": [],
   "source": [
    "%matplotlib inline\n",
    "\n",
    "import matplotlib.pyplot as plt\n",
    "import matplotlib.patches as mpatches\n",
    "\n",
    "import pandas as pd"
   ]
  },
  {
   "cell_type": "code",
   "execution_count": 2,
   "metadata": {
    "collapsed": false
   },
   "outputs": [],
   "source": [
    "import json\n",
    "from pprint import pprint\n",
    "\n",
    "with open('./../output/geo-sim/part-00000') as data_file:    \n",
    "    data = json.load(data_file)\n",
    "    \n",
    "result_act = pd.read_json(data[\"result_act\"])\n",
    "result_user = pd.read_json(data[\"result_user\"])"
   ]
  },
  {
   "cell_type": "code",
   "execution_count": null,
   "metadata": {
    "collapsed": false
   },
   "outputs": [],
   "source": [
    "def ratio(n, w):\n",
    "    if n == 0:\n",
    "        return 0\n",
    "    \n",
    "    if w == 0:\n",
    "        return 0\n",
    "    \n",
    "    return  n/w\n",
    "\n",
    "def rowRatio(data):\n",
    "    d = {\n",
    "        \"m1\":ratio(data[\"m1\"], data[\"m1\"]),\n",
    "        \"m2\":ratio(data[\"m2\"], data[\"m1\"]),\n",
    "        \"m3\":ratio(data[\"m3\"], data[\"m1\"]),\n",
    "        \"m4\":ratio(data[\"m4\"], data[\"m1\"]),\n",
    "        \"m5\":ratio(data[\"m5\"], data[\"m1\"])\n",
    "    }\n",
    "    return pd.Series(d)\n",
    "\n",
    "usagedominance = result_act[[\"usagedominance_m1\",\"usagedominance_m2\",\"usagedominance_m3\",\"usagedominance_m4\",\"usagedominance\"]]\n",
    "usagedominance.columns = ['m1', 'm2', 'm3', 'm4', 'm5']\n",
    "usagedominance = usagedominance.apply(rowRatio,1)\n",
    "\n",
    "plt = usagedominance.plot(ax=axes[0,0])\n",
    "plt.set_xlabel('')\n",
    "plt.set_ylabel(r'$\\frac{r}{r_{M1}}$', rotation=0)\n",
    "\n",
    "userusagedominance = result_user[[\"userusagedominance_m1\",\"userusagedominance_m2\",\"userusagedominance_m3\",\"userusagedominance_m4\",\"usagedominance\"]]\n",
    "userusagedominance.columns = ['m1', 'm2', 'm3', 'm4', 'm5']\n",
    "userusagedominance = userusagedominance.apply(rowRatio,1)\n",
    "\n",
    "plt = userusagedominance.plot(ax=axes[0,1])\n",
    "plt.set_xlabel('')\n",
    "plt.set_ylabel(r'$\\frac{g}{g_{M1}}$', rotation=0)\n",
    "\n",
    "usageEntorpy = result_act[[\"usageEntorpy_m1\",\"usageEntorpy_m2\",\"usageEntorpy_m3\",\"usageEntorpy_m4\",\"usagedominance\"]]\n",
    "usageEntorpy.columns = ['m1', 'm2', 'm3', 'm4', 'm5']\n",
    "usageEntorpy = usageEntorpy.apply(rowRatio,1)\n",
    "\n",
    "plt = usageEntorpy.plot(ax=axes[1,0], ylim=(0,1.5))\n",
    "plt.set_xlabel('')\n",
    "plt.set_ylabel(r'$\\frac{H^p}{N_{M1}^p}$', rotation=0)\n",
    "\n",
    "userUsageEntorpy = result_user[[\"userUsageEntorpy_m1\",\"userUsageEntorpy_m2\",\"userUsageEntorpy_m3\",\"userUsageEntorpy_m4\",\"usagedominance\"]]\n",
    "userUsageEntorpy.columns = ['m1', 'm2', 'm3', 'm4', 'm5']\n",
    "userUsageEntorpy = userUsageEntorpy.apply(rowRatio,1)\n",
    "\n",
    "plt = userUsageEntorpy.plot(ax=axes[1,1])\n",
    "plt.set_xlabel('')\n",
    "plt.set_ylabel(r'$\\frac{H^u}{N_{M1}^u}$', rotation=0)\n",
    "\n",
    "ActivateionExposure = result_act[[\"ActivateionExposure_m1\",\"ActivateionExposure_m2\",\"ActivateionExposure_m3\",\"ActivateionExposure_m4\",\"usagedominance\"]]\n",
    "ActivateionExposure.columns = ['m1', 'm2', 'm3', 'm4', 'm5']\n",
    "ActivateionExposure['m1'] = pd.rolling_mean(ActivateionExposure['m1'], 100)\n",
    "ActivateionExposure['m2'] = pd.rolling_mean(ActivateionExposure['m2'], 100)\n",
    "ActivateionExposure['m3'] = pd.rolling_mean(ActivateionExposure['m3'], 100)\n",
    "ActivateionExposure['m4'] = pd.rolling_mean(ActivateionExposure['m4'], 100)\n",
    "ActivateionExposure['m5'] = pd.rolling_mean(ActivateionExposure['m5'], 100)\n",
    "ActivateionExposure = ActivateionExposure.apply(rowRatio,1)\n",
    "\n",
    "plt = ActivateionExposure.plot(ax=axes[2,0])\n",
    "plt.set_xlabel('Posts (P)')\n",
    "plt.set_ylabel(r'$\\frac{N^p}{N_{M1}^p}$', rotation=0)\n",
    "\n",
    "UserExposure = result_user[[\"UserExposure_m1\",\"UserExposure_m2\",\"UserExposure_m3\",\"UserExposure_m4\",\"usagedominance\"]]\n",
    "UserExposure.columns = ['m1', 'm2', 'm3', 'm4', 'm5']\n",
    "UserExposure['m1'] = pd.rolling_mean(UserExposure['m1'], 100)\n",
    "UserExposure['m2'] = pd.rolling_mean(UserExposure['m2'], 100)\n",
    "UserExposure['m3'] = pd.rolling_mean(UserExposure['m3'], 100)\n",
    "UserExposure['m4'] = pd.rolling_mean(UserExposure['m4'], 100)\n",
    "UserExposure['m5'] = pd.rolling_mean(UserExposure['m5'], 100)\n",
    "UserExposure = UserExposure.apply(rowRatio,1)\n",
    "\n",
    "plt = UserExposure.plot(ax=axes[2,1])\n",
    "plt.set_xlabel('Users (U)')\n",
    "plt.set_ylabel(r'$\\frac{N^u}{N_{M1}^u}$', rotation=0)"
   ]
  },
  {
   "cell_type": "code",
   "execution_count": null,
   "metadata": {
    "collapsed": true
   },
   "outputs": [],
   "source": [
    ""
   ]
  }
 ],
 "metadata": {
  "kernelspec": {
   "display_name": "Python 2",
   "language": "python",
   "name": "python2"
  },
  "language_info": {
   "codemirror_mode": {
    "name": "ipython",
    "version": 2.0
   },
   "file_extension": ".py",
   "mimetype": "text/x-python",
   "name": "python",
   "nbconvert_exporter": "python",
   "pygments_lexer": "ipython2",
   "version": "2.7.11"
  }
 },
 "nbformat": 4,
 "nbformat_minor": 0
}